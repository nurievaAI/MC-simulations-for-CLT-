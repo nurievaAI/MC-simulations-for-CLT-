{
  "cells": [
    {
      "cell_type": "markdown",
      "metadata": {
        "id": "i7LlEAwZUL1W"
      },
      "source": [
        "# Monte Carlo"
      ]
    },
    {
      "cell_type": "code",
      "execution_count": null,
      "metadata": {
        "id": "ug8gUTwUhw43"
      },
      "outputs": [],
      "source": [
        "import numpy as np\n",
        "import pandas as pd"
      ]
    },
    {
      "cell_type": "markdown",
      "metadata": {
        "id": "bZSyml-7HqSo"
      },
      "source": [
        "# Example 15\n",
        "Starting distribution  p=[0.1,0.2,0.3,0.4]"
      ]
    },
    {
      "cell_type": "code",
      "execution_count": null,
      "metadata": {
        "id": "7_Q9pxwnUjdW"
      },
      "outputs": [],
      "source": [
        "def simulation(transition, time): #function that makes one simulation (n is for eps and beta, and time is lenght of MC)\n",
        "  start_state = np.random.choice([0,1,2,3], p=[0.1,0.2,0.3,0.4]) # random choice of start position\n",
        "  previous_state = start_state\n",
        "  history = [start_state] # history of simulation, here contains only first position\n",
        "  for i in range(time): # making one MC trajectory, putting it to history array\n",
        "    current_state = np.random.choice([0,1,2,3], p=transition[previous_state]) #random transition to new position using transition matrix\n",
        "    previous_state = current_state\n",
        "    history.append(current_state) # appending new step to history\n",
        "  return (history)"
      ]
    },
    {
      "cell_type": "code",
      "execution_count": null,
      "metadata": {
        "id": "rmyfbm6lOQCg"
      },
      "outputs": [],
      "source": [
        "def monte_carlo (n,time, iterations): #function that makes many simulations ('iterations' -- how many)\n",
        "  last = np.zeros(iterations) # array that will contain variance (дисперсия) of all simulations\n",
        "  eps_n = 1/(n**(1/3))\n",
        "  beta_n = 1/(n**(1/6))\n",
        "  transition = np.array([[1 - beta_n, eps_n, eps_n, beta_n - 2*eps_n],\n",
        "                                [eps_n, 1 - beta_n, beta_n - 2*eps_n, eps_n],\n",
        "                                [1/4, 1/4, 1/4, 1/4],\n",
        "                                [1/4, 1/4, 1/4, 1/4]]) # transition matrix\n",
        "  for i in range(iterations): #starting simulations\n",
        "    last[i] = simulation(transition, time)[time-1] #starting new simulations, looking at last position, writing it down to new array\n",
        "    # print(i)\n",
        "  return(last) #returns 1000 last positions of MC (on 10^4 step) for all simulations"
      ]
    },
    {
      "cell_type": "code",
      "execution_count": null,
      "metadata": {
        "colab": {
          "base_uri": "https://localhost:8080/"
        },
        "id": "voMa_76VPRKc",
        "outputId": "174b9428-12ee-4c58-f6d3-52c0348e003c"
      },
      "outputs": [
        {
          "name": "stdout",
          "output_type": "stream",
          "text": [
            "0.33127100000000004\n",
            "0.3359749999999999\n",
            "0.325159\n",
            "0.3322359999999999\n",
            "0.31399099999999996\n",
            "0.34150000000000014\n",
            "0.3396\n",
            "0.314976\n",
            "0.3216\n",
            "0.31439999999999996\n"
          ]
        }
      ],
      "source": [
        " for i in range(10):\n",
        "  print(np.var(monte_carlo(10**12, 2*10**4, 1000)))"
      ]
    },
    {
      "cell_type": "code",
      "execution_count": null,
      "metadata": {
        "colab": {
          "base_uri": "https://localhost:8080/"
        },
        "id": "4NurQBbrKOXC",
        "outputId": "bb69c98c-5038-40c0-8674-cafef57e6911"
      },
      "outputs": [
        {
          "name": "stdout",
          "output_type": "stream",
          "text": [
            "0.32989999999999997\n",
            "0.4211\n",
            "0.37310000000000004\n",
            "0.3236\n",
            "0.28640000000000004\n",
            "0.3299\n",
            "0.30839999999999995\n",
            "0.30909999999999993\n",
            "0.24909999999999993\n",
            "0.39039999999999997\n"
          ]
        }
      ],
      "source": [
        " for i in range(10):\n",
        "  print(np.var(monte_carlo(10**12, 2*10**4, 100)))"
      ]
    },
    {
      "cell_type": "code",
      "execution_count": null,
      "metadata": {
        "colab": {
          "base_uri": "https://localhost:8080/"
        },
        "id": "7ALgA7atMELH",
        "outputId": "cc35c0a6-0d1f-40e5-f80f-c763a6704744"
      },
      "outputs": [
        {
          "name": "stdout",
          "output_type": "stream",
          "text": [
            "0.24000000000000005\n",
            "0.25\n",
            "0.20999999999999996\n",
            "0.09000000000000001\n",
            "0.24000000000000005\n",
            "0.24\n",
            "0.25\n",
            "0.36000000000000004\n",
            "0.24000000000000005\n",
            "0.24000000000000005\n"
          ]
        }
      ],
      "source": [
        " for i in range(10):\n",
        "  print(np.var(monte_carlo(10**12, 2*10**4, 10)))"
      ]
    },
    {
      "cell_type": "markdown",
      "metadata": {
        "id": "7lsgTV2XjzES"
      },
      "source": [
        "# Example 15\n",
        "Starting distribution p=[1,0,0,0]"
      ]
    },
    {
      "cell_type": "code",
      "execution_count": null,
      "metadata": {
        "id": "qJs3STv1j7iH"
      },
      "outputs": [],
      "source": [
        "def simulation(transition, time): #function that makes one simulation (n is for eps and beta, and time is lenght of MC)\n",
        "  start_state = np.random.choice([0,1,2,3], p=[1,0,0,0]) # random choice of start position\n",
        "  previous_state = start_state\n",
        "  history = [start_state] # history of simulation, here contains only first position\n",
        "  for i in range(time): # making one MC trajectory, putting it to history array\n",
        "    current_state = np.random.choice([0,1,2,3], p=transition[previous_state]) #random transition to new position using transition matrix\n",
        "    previous_state = current_state\n",
        "    history.append(current_state) # appending new step to history\n",
        "  return (history)"
      ]
    },
    {
      "cell_type": "code",
      "execution_count": null,
      "metadata": {
        "id": "up2jPnJ3j7YN"
      },
      "outputs": [],
      "source": [
        "def monte_carlo (n,time, iterations): #function that makes many simulations ('iterations' -- how many)\n",
        "  last = np.zeros(iterations) # array that will contain variance (дисперсия) of all simulations\n",
        "  eps_n = 1/(n**(1/3))\n",
        "  beta_n = 1/(n**(1/6))\n",
        "  transition = np.array([[1 - beta_n, eps_n, eps_n, beta_n - 2*eps_n],\n",
        "                                [eps_n, 1 - beta_n, beta_n - 2*eps_n, eps_n],\n",
        "                                [1/4, 1/4, 1/4, 1/4],\n",
        "                                [1/4, 1/4, 1/4, 1/4]]) # transition matrix\n",
        "  for i in range(iterations): #starting simulations\n",
        "    last[i] = simulation(transition, time)[time-1] #starting new simulations, looking at last position, writing it down to new array\n",
        "    # print(i)\n",
        "  return(last) #returns 1000 last positions of MC (on 10^4 step) for all simulations"
      ]
    },
    {
      "cell_type": "code",
      "execution_count": null,
      "metadata": {
        "colab": {
          "base_uri": "https://localhost:8080/"
        },
        "id": "jVLL-iEdj7QY",
        "outputId": "9272d79f-a166-45ef-cc9c-b1f8eceaa499"
      },
      "outputs": [
        {
          "name": "stdout",
          "output_type": "stream",
          "text": [
            "0.362631\n",
            "0.31596399999999997\n",
            "0.348071\n",
            "0.287039\n",
            "0.3555000000000001\n",
            "0.339039\n",
            "0.321599\n",
            "0.3380640000000001\n",
            "0.29477499999999995\n"
          ]
        }
      ],
      "source": [
        " for i in range(10):\n",
        "  print(np.var(monte_carlo(10**12, 2*10**4, 1000)))"
      ]
    },
    {
      "cell_type": "code",
      "execution_count": null,
      "metadata": {
        "colab": {
          "base_uri": "https://localhost:8080/"
        },
        "id": "L8S5258kj7HR",
        "outputId": "dd12466b-417e-4fc5-ec62-bc04dba42ac1"
      },
      "outputs": [
        {
          "name": "stdout",
          "output_type": "stream",
          "text": [
            "0.26959999999999995\n",
            "0.32989999999999997\n",
            "0.2450999999999999\n",
            "0.30989999999999995\n",
            "0.3436\n",
            "0.2699\n",
            "0.4096000000000001\n",
            "0.36750000000000005\n",
            "0.27\n",
            "0.25\n"
          ]
        }
      ],
      "source": [
        " for i in range(10):\n",
        "  print(np.var(monte_carlo(10**12, 2*10**4, 100)))"
      ]
    },
    {
      "cell_type": "code",
      "execution_count": null,
      "metadata": {
        "colab": {
          "base_uri": "https://localhost:8080/"
        },
        "id": "zYEBnuZ9j67O",
        "outputId": "06e7229c-9101-4fd3-ed36-08d14e3503c3"
      },
      "outputs": [
        {
          "name": "stdout",
          "output_type": "stream",
          "text": [
            "0.6900000000000001\n",
            "0.25\n",
            "0.7600000000000001\n",
            "0.24\n",
            "0.20999999999999996\n",
            "0.41\n",
            "0.25\n",
            "0.24000000000000005\n",
            "0.24000000000000005\n",
            "0.16000000000000006\n"
          ]
        }
      ],
      "source": [
        " for i in range(10):\n",
        "  print(np.var(monte_carlo(10**12, 2*10**4, 10)))"
      ]
    },
    {
      "cell_type": "markdown",
      "metadata": {
        "id": "g5UxiyqoImK_"
      },
      "source": [
        "# Example 13"
      ]
    },
    {
      "cell_type": "code",
      "execution_count": null,
      "metadata": {
        "id": "EwYl_TVf846N"
      },
      "outputs": [],
      "source": [
        "def simulation_13(transition, time): #function that makes one simulation (n is for eps and beta, and time is lenght of MC)\n",
        "  start_state = np.random.choice([0,1,2,3], p=[0.25 ,0.25, 0.25, 0.25]) # random choice of start position\n",
        "  previous_state = start_state\n",
        "  history = [start_state] # history of simulation, here contains only first position\n",
        "  for i in range(time): # making one MC trajectory, putting it to history array\n",
        "    current_state = np.random.choice([0,1,2,3], p=transition[previous_state]) #random transition to new position using transition matrix\n",
        "    previous_state = current_state\n",
        "    history.append(current_state) # appending new step to history\n",
        "  return (history)"
      ]
    },
    {
      "cell_type": "code",
      "execution_count": null,
      "metadata": {
        "id": "6n_WQhSpYvPK"
      },
      "outputs": [],
      "source": [
        "def monte_carlo_13 (n,time, iterations): #function that makes many simulations ('iterations' -- how many)\n",
        "  last = np.zeros(iterations) # array that will contain variance (дисперсия) of all simulations\n",
        "  eps_n = 1/(n**(1/3))\n",
        "  beta_n = 1/(n**(1/6))\n",
        "  transition = np.array([[1 - 2*beta_n, beta_n, beta_n, 0],\n",
        "                                [0, 1/2, 1/2, 0],\n",
        "                                [0, 0, 1/2, 1/2],\n",
        "                                [0, eps_n, 0, 1 - eps_n]]) # transition matrix\n",
        "  for i in range(iterations): #starting simulations\n",
        "    last[i] = simulation_13(transition, time)[time-1] #starting new simulations, looking at last position, writing it down to new array\n",
        "    # print(i)\n",
        "  return(last) #returns 1000 last positions of MC (on 10^4 step) for all simulations"
      ]
    },
    {
      "cell_type": "code",
      "execution_count": null,
      "metadata": {
        "colab": {
          "base_uri": "https://localhost:8080/"
        },
        "id": "XuVUq0X2YwPP",
        "outputId": "5d5f2a56-2671-4872-b911-a4a6a1550a55"
      },
      "outputs": [
        {
          "name": "stdout",
          "output_type": "stream",
          "text": [
            "0.0\n",
            "0.0\n",
            "0.004991\n",
            "0.0009990000000000005\n",
            "0.0\n",
            "0.000999\n",
            "0.0\n",
            "0.0\n",
            "0.0\n",
            "0.0\n"
          ]
        }
      ],
      "source": [
        " for i in range(10):\n",
        "  print(np.var(monte_carlo_13(10**12, 2*10**4, 1000)))"
      ]
    },
    {
      "cell_type": "code",
      "execution_count": null,
      "metadata": {
        "colab": {
          "base_uri": "https://localhost:8080/"
        },
        "id": "Mg8ZFdEGY2xw",
        "outputId": "0a63d00c-a2e3-4c2b-cb8a-1993220a625a"
      },
      "outputs": [
        {
          "name": "stdout",
          "output_type": "stream",
          "text": [
            "0.0\n",
            "0.0\n",
            "0.0\n",
            "0.0\n",
            "0.0\n",
            "0.0\n",
            "0.009899999999999999\n",
            "0.0\n",
            "0.0\n",
            "0.0\n"
          ]
        }
      ],
      "source": [
        " for i in range(10):\n",
        "  print(np.var(monte_carlo_13(10**12, 2*10**4, 100)))"
      ]
    },
    {
      "cell_type": "code",
      "execution_count": null,
      "metadata": {
        "colab": {
          "base_uri": "https://localhost:8080/"
        },
        "id": "J7mq25HOKYRl",
        "outputId": "6f38d671-17d0-47eb-e33d-8092539afb3c"
      },
      "outputs": [
        {
          "name": "stdout",
          "output_type": "stream",
          "text": [
            "0.0\n",
            "0.0\n",
            "0.0\n",
            "0.0\n",
            "0.0\n",
            "0.0\n",
            "0.0\n",
            "0.0\n",
            "0.0\n",
            "0.0\n"
          ]
        }
      ],
      "source": [
        " for i in range(10):\n",
        "  print(np.var(monte_carlo_13(10**12, 2*10**4, 10)))"
      ]
    },
    {
      "cell_type": "markdown",
      "metadata": {
        "id": "7wdWNkickTjr"
      },
      "source": [
        "# Example 14"
      ]
    },
    {
      "cell_type": "code",
      "execution_count": null,
      "metadata": {
        "id": "sMbDtZQlluTW"
      },
      "outputs": [],
      "source": [
        "def simulation_14(transition, time): #function that makes one simulation (n is for eps and beta, and time is lenght of MC)\n",
        "  start_state = np.random.choice([0,1,2,3,4], p=[0.2, 0.2, 0.2, 0.2, 0.2]) # random choice of start position\n",
        "  previous_state = start_state\n",
        "  history = [start_state] # history of simulation, here contains only first position\n",
        "  for i in range(time): # making one MC trajectory, putting it to history array\n",
        "    current_state = np.random.choice([0,1,2,3,4], p=transition[previous_state]) #random transition to new position using transition matrix\n",
        "    previous_state = current_state\n",
        "    history.append(current_state) # appending new step to history\n",
        "  return (history)"
      ]
    },
    {
      "cell_type": "code",
      "execution_count": null,
      "metadata": {
        "id": "CdjgHlIIl1af"
      },
      "outputs": [],
      "source": [
        "def monte_carlo_14 (n,time, iterations): #function that makes many simulations ('iterations' -- how many)\n",
        "  last = np.zeros(iterations) # array that will contain variance (дисперсия) of all simulations\n",
        "  eps_n = 1/(n**(1/3))\n",
        "  beta_n = 1/(n**(1/6))\n",
        "  transition = np.array([[1 - 2*beta_n, beta_n, beta_n, 0, 0],\n",
        "                                [0, 1/3, 1/3, 0, 1/3],\n",
        "                                [0, 0, 1/2, 1/2, 0],\n",
        "                                [eps_n, 0, 0, 1 - beta_n, beta_n - eps_n],\n",
        "                                [eps_n, 0, 0, beta_n - eps_n, 1 - beta_n]]) # transition matrix\n",
        "  for i in range(iterations): #starting simulations\n",
        "    last[i] = simulation_14(transition, time)[time-1] #starting new simulations, looking at last position, writing it down to new array\n",
        "    # print(i)\n",
        "  return(last) #returns 1000 last positions of MC (on 10^4 step) for all simulations"
      ]
    },
    {
      "cell_type": "code",
      "execution_count": null,
      "metadata": {
        "colab": {
          "base_uri": "https://localhost:8080/"
        },
        "id": "b1J5HexUmgVA",
        "outputId": "af47349e-98b0-4b47-b213-9802762cc64e"
      },
      "outputs": [
        {
          "name": "stdout",
          "output_type": "stream",
          "text": [
            "0.29751600000000006\n",
            "0.309831\n",
            "0.309936\n",
            "0.3334709999999999\n",
            "0.33286400000000005\n",
            "0.2967749999999999\n",
            "0.26942400000000005\n",
            "0.30987899999999996\n",
            "0.3458789999999999\n",
            "0.2825189999999999\n"
          ]
        }
      ],
      "source": [
        "for i in range(10):\n",
        "  print(np.var(monte_carlo_14(10**12, 2*10**4, 1000)))"
      ]
    },
    {
      "cell_type": "code",
      "execution_count": null,
      "metadata": {
        "colab": {
          "base_uri": "https://localhost:8080/"
        },
        "id": "7_6HAP-YoNrK",
        "outputId": "37e22322-2ead-47f2-fd5b-761caf6c2937"
      },
      "outputs": [
        {
          "name": "stdout",
          "output_type": "stream",
          "text": [
            "0.2464\n",
            "0.24989999999999998\n",
            "0.36960000000000015\n",
            "0.37\n",
            "0.36639999999999995\n",
            "0.24509999999999998\n",
            "0.2418999999999999\n",
            "0.2451\n",
            "0.35559999999999997\n",
            "0.3651\n"
          ]
        }
      ],
      "source": [
        "for i in range(10):\n",
        "  print(np.var(monte_carlo_14(10**12, 2*10**4, 100)))"
      ]
    },
    {
      "cell_type": "code",
      "execution_count": null,
      "metadata": {
        "colab": {
          "base_uri": "https://localhost:8080/"
        },
        "id": "HYDTK6CZqb4h",
        "outputId": "967abded-d477-4bd5-bbf2-cc8bc14f771b"
      },
      "outputs": [
        {
          "name": "stdout",
          "output_type": "stream",
          "text": [
            "0.15999999999999998\n",
            "0.25\n",
            "0.24000000000000005\n",
            "0.24000000000000005\n",
            "1.29\n",
            "0.24000000000000005\n",
            "0.24000000000000005\n",
            "0.24000000000000005\n",
            "0.25\n",
            "0.25\n"
          ]
        }
      ],
      "source": [
        "for i in range(10):\n",
        "  print(np.var(monte_carlo_14(10**12, 2*10**4, 10)))"
      ]
    },
    {
      "cell_type": "markdown",
      "metadata": {
        "id": "VmjzcStHqcaJ"
      },
      "source": [
        "# Example 12"
      ]
    },
    {
      "cell_type": "code",
      "execution_count": null,
      "metadata": {
        "id": "BiyALD2Qqfg9"
      },
      "outputs": [],
      "source": [
        "def simulation_12(transition, time): #function that makes one simulation (n is for eps and beta, and time is lenght of MC)\n",
        "  start_state = np.random.choice([0,1,2,3], p=[0.25, 0.25, 0.25, 0.25]) # random choice of start position\n",
        "  previous_state = start_state\n",
        "  history = [start_state] # history of simulation, here contains only first position\n",
        "  for i in range(time): # making one MC trajectory, putting it to history array\n",
        "    current_state = np.random.choice([0,1,2,3], p=transition[previous_state]) #random transition to new position using transition matrix\n",
        "    previous_state = current_state\n",
        "    history.append(current_state) # appending new step to history\n",
        "  return (history)"
      ]
    },
    {
      "cell_type": "code",
      "execution_count": null,
      "metadata": {
        "id": "x2fvQpIOqqVi"
      },
      "outputs": [],
      "source": [
        "def monte_carlo_12 (n,time, iterations): #function that makes many simulations ('iterations' -- how many)\n",
        "  last = np.zeros(iterations) # array that will contain variance (дисперсия) of all simulations\n",
        "  eps_n = 1/(n**(1/3))\n",
        "  beta_n = 1/(n**(1/6))\n",
        "  transition = np.array([[1 - 2*beta_n, beta_n, beta_n, 0],\n",
        "                                [0, 1/2, 1/2, 0],\n",
        "                                [0, 0, 1/2, 1/2],\n",
        "                                [0, 0, 0, 1 ]]) # transition matrix\n",
        "  for i in range(iterations): #starting simulations\n",
        "    last[i] = simulation_12(transition, time)[time-1] #starting new simulations, looking at last position, writing it down to new array\n",
        "    # print(i)\n",
        "  return(last) #returns 1000 last positions of MC (on 10^4 step) for all simulations"
      ]
    },
    {
      "cell_type": "code",
      "execution_count": null,
      "metadata": {
        "colab": {
          "base_uri": "https://localhost:8080/"
        },
        "id": "6VdkoxEUrh_S",
        "outputId": "aec1898e-8dbf-4774-8c98-ee306a063e66"
      },
      "outputs": [
        {
          "output_type": "stream",
          "name": "stdout",
          "text": [
            "0.0\n",
            "0.0\n",
            "0.0\n",
            "0.0\n",
            "0.0\n",
            "0.0\n",
            "0.0\n",
            "0.0\n",
            "0.0\n",
            "0.0\n"
          ]
        }
      ],
      "source": [
        "for i in range(10):\n",
        "  print(np.var(monte_carlo_12(10**12, 2*10**4, 1000)))"
      ]
    },
    {
      "cell_type": "code",
      "execution_count": null,
      "metadata": {
        "id": "ojEDvudUrm1z",
        "colab": {
          "base_uri": "https://localhost:8080/"
        },
        "outputId": "210822d7-2e7b-4d4e-cc92-153d8014eb8f"
      },
      "outputs": [
        {
          "output_type": "stream",
          "name": "stdout",
          "text": [
            "0.0\n",
            "0.0\n",
            "0.0\n",
            "0.0\n",
            "0.0\n",
            "0.0\n",
            "0.0\n",
            "0.0\n",
            "0.0\n",
            "0.0\n"
          ]
        }
      ],
      "source": [
        "for i in range(10):\n",
        "  print(np.var(monte_carlo_12(10**12, 2*10**4, 100)))"
      ]
    },
    {
      "cell_type": "code",
      "source": [
        "for i in range(10):\n",
        "  print(np.var(monte_carlo_12(10**12, 2*10**4, 10)))"
      ],
      "metadata": {
        "colab": {
          "base_uri": "https://localhost:8080/"
        },
        "id": "UMFiW9pokllW",
        "outputId": "a673e5af-18ed-4f26-9573-890e9f49c4b2"
      },
      "execution_count": null,
      "outputs": [
        {
          "output_type": "stream",
          "name": "stdout",
          "text": [
            "0.0\n",
            "0.0\n",
            "0.0\n",
            "0.0\n",
            "0.0\n",
            "0.0\n",
            "0.0\n",
            "0.0\n",
            "0.0\n",
            "0.0\n"
          ]
        }
      ]
    },
    {
      "cell_type": "code",
      "source": [],
      "metadata": {
        "id": "ClU-lox6EbU2"
      },
      "execution_count": null,
      "outputs": []
    }
  ],
  "metadata": {
    "colab": {
      "provenance": []
    },
    "kernelspec": {
      "display_name": "Python 3",
      "name": "python3"
    },
    "language_info": {
      "name": "python"
    }
  },
  "nbformat": 4,
  "nbformat_minor": 0
}