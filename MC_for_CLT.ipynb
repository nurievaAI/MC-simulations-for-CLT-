{
  "cells": [
    {
      "cell_type": "markdown",
      "metadata": {
        "id": "i7LlEAwZUL1W"
      },
      "source": [
        "# Monte Carlo"
      ]
    },
    {
      "cell_type": "code",
      "execution_count": null,
      "metadata": {
        "id": "ug8gUTwUhw43"
      },
      "outputs": [],
      "source": [
        "import numpy as np\n",
        "import pandas as pd"
      ]
    },
    {
      "cell_type": "code",
      "execution_count": null,
      "metadata": {
        "id": "7_Q9pxwnUjdW"
      },
      "outputs": [],
      "source": [
        "def simulation(transition, time): #function that makes one simulation (n is for eps and beta, and time is lenght of MC)\n",
        "  start_state = np.random.choice([0,1,2,3], p=[0.5,0.5,0,0]) # random choice of start position\n",
        "  previous_state = start_state\n",
        "  history = [start_state] # history of simulation, here contains only first position\n",
        "  for i in range(time): # making one MC trajectory, putting it to history array\n",
        "    current_state = np.random.choice([0,1,2,3], p=transition[previous_state]) #random transition to new position using transition matrix\n",
        "    previous_state = current_state\n",
        "    history.append(current_state) # appending new step to history\n",
        "  return (history)"
      ]
    },
    {
      "cell_type": "code",
      "execution_count": null,
      "metadata": {
        "id": "rmyfbm6lOQCg"
      },
      "outputs": [],
      "source": [
        "def monte_carlo (n,time, iterations): #function that makes many simulations ('iterations' -- how many)\n",
        "  last = np.zeros(iterations) # array that will contain variance (дисперсия) of all simulations\n",
        "  eps_n = 1/(n**(1/3))\n",
        "  beta_n = 1/(n**(1/6))\n",
        "  transition = np.array([[1 - beta_n, eps_n, eps_n, beta_n - 2*eps_n],\n",
        "                                [eps_n, 1 - beta_n, beta_n - 2*eps_n, eps_n],\n",
        "                                [1/4, 1/4, 1/4, 1/4],\n",
        "                                [1/4, 1/4, 1/4, 1/4]]) # transition matrix\n",
        "  for i in range(iterations): #starting simulations\n",
        "    last[i] = simulation(transition, time)[time-1] #starting new simulations, looking at last position, writing it down to new array\n",
        "    # print(i)\n",
        "  return(last) #returns 1000 last positions of MC (on 10^4 step) for all simulations"
      ]
    },
    {
      "cell_type": "code",
      "execution_count": null,
      "metadata": {
        "colab": {
          "base_uri": "https://localhost:8080/"
        },
        "id": "voMa_76VPRKc",
        "outputId": "b80d2264-c7c5-42c5-cbab-6bc32283d371"
      },
      "outputs": [
        {
          "output_type": "stream",
          "name": "stdout",
          "text": [
            "0.35388400000000003\n",
            "0.334976\n",
            "0.341831\n",
            "0.2919\n",
            "0.36455599999999994\n",
            "0.3413240000000001\n",
            "0.3619\n",
            "0.3324\n",
            "0.3304789999999999\n",
            "0.33684400000000003\n"
          ]
        }
      ],
      "source": [
        " for i in range(10):\n",
        "  print(np.var(monte_carlo(10**12, 2*10**4, 1000)))"
      ]
    }
  ],
  "metadata": {
    "colab": {
      "provenance": []
    },
    "kernelspec": {
      "display_name": "Python 3",
      "name": "python3"
    },
    "language_info": {
      "name": "python"
    }
  },
  "nbformat": 4,
  "nbformat_minor": 0
}