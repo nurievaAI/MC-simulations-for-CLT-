{
  "cells": [
    {
      "cell_type": "markdown",
      "metadata": {
        "id": "i7LlEAwZUL1W"
      },
      "source": [
        "# Monte Carlo"
      ]
    },
    {
      "cell_type": "code",
      "execution_count": null,
      "metadata": {
        "id": "ug8gUTwUhw43"
      },
      "outputs": [],
      "source": [
        "import numpy as np\n",
        "import pandas as pd"
      ]
    },
    {
      "cell_type": "code",
      "execution_count": null,
      "metadata": {
        "id": "7_Q9pxwnUjdW"
      },
      "outputs": [],
      "source": [
        "def simulation(transition, time): #function that makes one simulation (n is for eps and beta, and time is lenght of MC)\n",
        "  start_state = np.random.choice([0,1,2,3], p=[0.5,0.5,0,0]) # random choice of start position\n",
        "  previous_state = start_state\n",
        "  history = [start_state] # history of simulation, here contains only first position\n",
        "  for i in range(time): # making one MC trajectory, putting it to history array\n",
        "    current_state = np.random.choice([0,1,2,3], p=transition[previous_state]) #random transition to new position using transition matrix\n",
        "    previous_state = current_state\n",
        "    history.append(current_state) # appending new step to history\n",
        "  return (history)"
      ]
    },
    {
      "cell_type": "code",
      "execution_count": null,
      "metadata": {
        "id": "rmyfbm6lOQCg"
      },
      "outputs": [],
      "source": [
        "def monte_carlo (n,time, iterations): #function that makes many simulations ('iterations' -- how many)\n",
        "  last = np.zeros(iterations) # array that will contain variance (дисперсия) of all simulations\n",
        "  eps_n = 1/(n**(1/3))\n",
        "  beta_n = 1/(n**(1/6))\n",
        "  transition = np.array([[1 - beta_n, eps_n, eps_n, beta_n - 2*eps_n],\n",
        "                                [eps_n, 1 - beta_n, beta_n - 2*eps_n, eps_n],\n",
        "                                [1/4, 1/4, 1/4, 1/4],\n",
        "                                [1/4, 1/4, 1/4, 1/4]]) # transition matrix\n",
        "  for i in range(iterations): #starting simulations\n",
        "    last[i] = simulation(transition, time)[time-1] #starting new simulations, looking at last position, writing it down to new array\n",
        "    # print(i)\n",
        "  return(last) #returns 1000 last positions of MC (on 10^4 step) for all simulations"
      ]
    },
    {
      "cell_type": "code",
      "execution_count": null,
      "metadata": {
        "colab": {
          "base_uri": "https://localhost:8080/"
        },
        "id": "voMa_76VPRKc",
        "outputId": "d28cf0a7-772d-4dd5-fc59-9acf510a292f"
      },
      "outputs": [
        {
          "output_type": "stream",
          "name": "stdout",
          "text": [
            "0.29897500000000005\n",
            "0.32097600000000004\n",
            "0.2951\n",
            "0.343511\n",
            "0.324704\n",
            "0.3513240000000001\n",
            "0.34403100000000003\n",
            "0.3260640000000001\n",
            "0.31599099999999997\n",
            "0.330816\n"
          ]
        }
      ],
      "source": [
        " for i in range(10):\n",
        "  print(np.var(monte_carlo(10**12, 2*10**4, 1000)))"
      ]
    },
    {
      "cell_type": "code",
      "source": [
        " for i in range(10):\n",
        "  print(np.var(monte_carlo(10**12, 2*10**4, 100)))"
      ],
      "metadata": {
        "colab": {
          "base_uri": "https://localhost:8080/"
        },
        "id": "4NurQBbrKOXC",
        "outputId": "993ec394-b269-4d9b-aa87-39e6a090eca6"
      },
      "execution_count": null,
      "outputs": [
        {
          "output_type": "stream",
          "name": "stdout",
          "text": [
            "0.38960000000000017\n",
            "0.3099\n",
            "0.3931\n",
            "0.3664\n",
            "0.2890999999999999\n",
            "0.3051\n",
            "0.2836000000000001\n",
            "0.3999999999999999\n",
            "0.28990000000000005\n",
            "0.3636\n"
          ]
        }
      ]
    },
    {
      "cell_type": "code",
      "source": [
        " for i in range(10):\n",
        "  print(np.var(monte_carlo(10**12, 2*10**4, 10)))"
      ],
      "metadata": {
        "id": "7ALgA7atMELH",
        "colab": {
          "base_uri": "https://localhost:8080/"
        },
        "outputId": "c76766b0-c767-487c-ca6c-a8830b2900fb"
      },
      "execution_count": null,
      "outputs": [
        {
          "output_type": "stream",
          "name": "stdout",
          "text": [
            "0.25\n",
            "0.20999999999999996\n",
            "0.24000000000000005\n",
            "0.45\n",
            "0.43999999999999995\n",
            "0.24000000000000005\n",
            "0.24\n",
            "0.44000000000000006\n",
            "0.24\n",
            "0.36000000000000004\n"
          ]
        }
      ]
    },
    {
      "cell_type": "code",
      "source": [],
      "metadata": {
        "id": "EwYl_TVf846N"
      },
      "execution_count": null,
      "outputs": []
    }
  ],
  "metadata": {
    "colab": {
      "provenance": []
    },
    "kernelspec": {
      "display_name": "Python 3",
      "name": "python3"
    },
    "language_info": {
      "name": "python"
    }
  },
  "nbformat": 4,
  "nbformat_minor": 0
}